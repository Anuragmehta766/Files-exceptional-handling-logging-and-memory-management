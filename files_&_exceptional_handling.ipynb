{
  "cells": [
    {
      "cell_type": "code",
      "execution_count": 15,
      "metadata": {
        "id": "mQBLXrp27-Lj"
      },
      "outputs": [],
      "source": []
    },
    {
      "cell_type": "markdown",
      "metadata": {
        "id": "B58iihqo8Hzs"
      },
      "source": [
        "###files & exceptional handling"
      ]
    },
    {
      "cell_type": "markdown",
      "metadata": {
        "id": "tdEHV5Bm8LXt"
      },
      "source": [
        "###1.How can you open a file for writing in Python and write a string to it?"
      ]
    },
    {
      "cell_type": "code",
      "execution_count": 16,
      "metadata": {
        "colab": {
          "base_uri": "https://localhost:8080/"
        },
        "id": "y3A8Beem9gc2",
        "outputId": "42125666-8f13-45b5-fa54-6dd3b1830ef4"
      },
      "outputs": [
        {
          "output_type": "stream",
          "name": "stdout",
          "text": [
            "File Output:\n",
            "Hello, this is a string written to the file.\n",
            "File Output:\n",
            "Hello, this is a string written to the file.\n"
          ]
        }
      ],
      "source": [
        "\n",
        "with open(\"example.txt\", \"w\") as file:\n",
        "    file.write(\"Hello, this is a string written to the file.\")\n",
        "\n",
        "with open(\"example.txt\", \"r\") as file:\n",
        "    content = file.read()\n",
        "\n",
        "print(\"File Output:\")\n",
        "print(content)"
      ]
    },
    {
      "cell_type": "markdown",
      "metadata": {
        "id": "7-eOkwyO9l1_"
      },
      "source": [
        "###2.Write a Python program to read the contents of a file and print each line"
      ]
    },
    {
      "cell_type": "code",
      "execution_count": 17,
      "metadata": {
        "colab": {
          "base_uri": "https://localhost:8080/"
        },
        "id": "SAJaZ68e9srM",
        "outputId": "f46291a3-a8fa-486f-85a7-f31d1ad87b5a"
      },
      "outputs": [
        {
          "output_type": "stream",
          "name": "stdout",
          "text": [
            "File Content Line by Line:\n",
            "Hello\n",
            "This is a test\n",
            "File reading line by line\n",
            "File Content Line by Line:\n",
            "Hello\n",
            "This is a test\n",
            "File reading line by line\n"
          ]
        }
      ],
      "source": [
        "with open(\"example.txt\", \"w\") as file:\n",
        "    file.write(\"Hello\\n\")\n",
        "    file.write(\"This is a test\\n\")\n",
        "    file.write(\"File reading line by line\\n\")\n",
        "\n",
        "with open(\"example.txt\", \"r\") as file:\n",
        "    print(\"File Content Line by Line:\")\n",
        "    for line in file:\n",
        "        print(line.strip())"
      ]
    },
    {
      "cell_type": "markdown",
      "metadata": {
        "id": "Yt3DwROy-VAH"
      },
      "source": [
        "###3.How would you handle a case where the file doesn't exist while trying to open it for reading?"
      ]
    },
    {
      "cell_type": "code",
      "execution_count": 18,
      "metadata": {
        "colab": {
          "base_uri": "https://localhost:8080/"
        },
        "id": "FsjFywQ7-bWu",
        "outputId": "67a145b4-a300-4413-cfc5-86070ec2409f"
      },
      "outputs": [
        {
          "output_type": "stream",
          "name": "stdout",
          "text": [
            "File Content Line by Line:\n",
            "Hello\n",
            "This is a test\n",
            "File reading line by line\n",
            "File Content Line by Line:\n",
            "Hello\n",
            "This is a test\n",
            "File reading line by line\n"
          ]
        }
      ],
      "source": [
        "filename = \"example.txt\"\n",
        "\n",
        "try:\n",
        "\n",
        "    with open(filename, \"r\") as file:\n",
        "        print(\"File Content Line by Line:\")\n",
        "        for line in file:\n",
        "            print(line.strip())\n",
        "except FileNotFoundError:\n",
        "\n",
        "    print(f\"Error: The file '{filename}' does not exist.\")\n",
        "except Exception as e:\n",
        "\n",
        "    print(f\"An unexpected error occurred: {e}\")"
      ]
    },
    {
      "cell_type": "markdown",
      "metadata": {
        "id": "grbSld33_BqB"
      },
      "source": [
        "###4. Write a Python script that reads from one file and writes its content to another file."
      ]
    },
    {
      "cell_type": "code",
      "execution_count": 19,
      "metadata": {
        "colab": {
          "base_uri": "https://localhost:8080/"
        },
        "id": "j2KRzvik_M9E",
        "outputId": "ae466477-9cb9-4401-d109-bddbce883aff"
      },
      "outputs": [
        {
          "output_type": "stream",
          "name": "stdout",
          "text": [
            " Content copied successfully from 'source.txt' to 'destination.txt'.\n",
            " Content copied successfully from 'source.txt' to 'destination.txt'.\n"
          ]
        }
      ],
      "source": [
        "with open(\"source.txt\", \"w\") as source:\n",
        "    source.write(\"Line 1: This is a sample text.\\n\")\n",
        "    source.write(\"Line 2: It will be copied to another file.\\n\")\n",
        "    source.write(\"Line 3: Python file handling is easy!\\n\")\n",
        "\n",
        "try:\n",
        "    with open(\"source.txt\", \"r\") as src, open(\"destination.txt\", \"w\") as dest:\n",
        "        for line in src:\n",
        "            dest.write(line)\n",
        "    print(\" Content copied successfully from 'source.txt' to 'destination.txt'.\")\n",
        "except FileNotFoundError:\n",
        "    print(\" Error: 'source.txt' not found.\")\n",
        "except Exception as e:\n",
        "    print(f\" An unexpected error occurred: {e}\")"
      ]
    },
    {
      "cell_type": "markdown",
      "metadata": {
        "id": "hrkRGcpaAM2Q"
      },
      "source": [
        "###5. How would you catch and handle division by zero error in Python?"
      ]
    },
    {
      "cell_type": "code",
      "execution_count": 20,
      "metadata": {
        "colab": {
          "base_uri": "https://localhost:8080/"
        },
        "id": "9S4CUh3vAU17",
        "outputId": "207d1e3b-9168-410c-9859-8952fa3c01f3"
      },
      "outputs": [
        {
          "output_type": "stream",
          "name": "stdout",
          "text": [
            "Error: Cannot divide by zero.\n",
            "Error: Cannot divide by zero.\n"
          ]
        }
      ],
      "source": [
        "numerator = 20\n",
        "denominator = 0\n",
        "\n",
        "try:\n",
        "    result = numerator / denominator\n",
        "    print(\"Result:\", result)\n",
        "except ZeroDivisionError:\n",
        "    print(\"Error: Cannot divide by zero.\")\n",
        "except Exception as e:\n",
        "    print(f\"An unexpected error occurred: {e}\")"
      ]
    },
    {
      "cell_type": "markdown",
      "metadata": {
        "id": "PvKDoaqIAuBq"
      },
      "source": [
        "###6.Write a Python program that logs an error message to a log file when a division by zero exception occurs."
      ]
    },
    {
      "cell_type": "code",
      "execution_count": 21,
      "metadata": {
        "colab": {
          "base_uri": "https://localhost:8080/"
        },
        "id": "6Yau1xx9Aziv",
        "outputId": "47e5f1bd-7353-484a-aeaf-a22277ac4630"
      },
      "outputs": [
        {
          "output_type": "stream",
          "name": "stderr",
          "text": [
            "ERROR:root:Division by zero occurred: division by zero\n"
          ]
        },
        {
          "output_type": "stream",
          "name": "stdout",
          "text": [
            "Error: Cannot divide by zero.\n"
          ]
        },
        {
          "output_type": "stream",
          "name": "stderr",
          "text": [
            "ERROR:root:Division by zero occurred: division by zero\n"
          ]
        },
        {
          "output_type": "stream",
          "name": "stdout",
          "text": [
            "Error: Cannot divide by zero.\n"
          ]
        }
      ],
      "source": [
        "import logging\n",
        "\n",
        "logging.basicConfig(\n",
        "    filename='error_log.txt',       # Log file name\n",
        "    level=logging.ERROR,            # Log level\n",
        "    format='%(asctime)s - %(levelname)s - %(message)s'\n",
        ")\n",
        "\n",
        "numerator = 20\n",
        "denominator = 0\n",
        "\n",
        "try:\n",
        "    result = numerator / denominator\n",
        "    print(\"Result:\", result)\n",
        "except ZeroDivisionError as e:\n",
        "    print(\"Error: Cannot divide by zero.\")\n",
        "    logging.error(\"Division by zero occurred: %s\", e)\n",
        "except Exception as e:\n",
        "    print(\"An unexpected error occurred.\")\n",
        "    logging.error(\"Unexpected error: %s\", e)"
      ]
    },
    {
      "cell_type": "markdown",
      "metadata": {
        "id": "Lc0Soh6uBiEQ"
      },
      "source": [
        "###7.How do you log information at different levels (INFO, ERROR, WARNING) in Python using the logging module?"
      ]
    },
    {
      "cell_type": "code",
      "execution_count": 22,
      "metadata": {
        "colab": {
          "base_uri": "https://localhost:8080/"
        },
        "id": "NATmCiXzBr8n",
        "outputId": "59bdf09b-275f-433f-8e12-37130de281c7"
      },
      "outputs": [
        {
          "output_type": "stream",
          "name": "stderr",
          "text": [
            "WARNING:root:This is a WARNING message (something unexpected).\n",
            "ERROR:root:This is an ERROR message (something went wrong).\n",
            "CRITICAL:root:This is a CRITICAL message (serious issue).\n",
            "WARNING:root:This is a WARNING message (something unexpected).\n",
            "ERROR:root:This is an ERROR message (something went wrong).\n",
            "CRITICAL:root:This is a CRITICAL message (serious issue).\n"
          ]
        }
      ],
      "source": [
        "import logging\n",
        "\n",
        "logging.basicConfig(\n",
        "    filename='app_log.txt',\n",
        "    level=logging.DEBUG,\n",
        "    format='%(asctime)s - %(levelname)s - %(message)s'\n",
        ")\n",
        "\n",
        "logging.debug(\"This is a DEBUG message (for developers).\")\n",
        "logging.info(\"This is an INFO message (general info).\")\n",
        "logging.warning(\"This is a WARNING message (something unexpected).\")\n",
        "logging.error(\"This is an ERROR message (something went wrong).\")\n",
        "logging.critical(\"This is a CRITICAL message (serious issue).\")"
      ]
    },
    {
      "cell_type": "markdown",
      "metadata": {
        "id": "fvK42uYjCEmY"
      },
      "source": [
        "###8.Write a program to handle a file opening error using exception handling."
      ]
    },
    {
      "cell_type": "code",
      "execution_count": 23,
      "metadata": {
        "colab": {
          "base_uri": "https://localhost:8080/"
        },
        "id": "rVS5fi12CKl4",
        "outputId": "a231fa8c-ea2d-4fb5-830c-4bd03e1b6a42"
      },
      "outputs": [
        {
          "output_type": "stream",
          "name": "stdout",
          "text": [
            "Error: The file 'nonexistent_file.txt' was not found.\n",
            "Error: The file 'nonexistent_file.txt' was not found.\n"
          ]
        }
      ],
      "source": [
        "filename = \"nonexistent_file.txt\"\n",
        "\n",
        "try:\n",
        "\n",
        "    with open(filename, \"r\") as file:\n",
        "        content = file.read()\n",
        "        print(\"File Content:\")\n",
        "        print(content)\n",
        "except FileNotFoundError:\n",
        "    print(f\"Error: The file '{filename}' was not found.\")\n",
        "except PermissionError:\n",
        "    print(f\"Error: Permission denied to read '{filename}'.\")\n",
        "except Exception as e:\n",
        "    print(f\"An unexpected error occurred: {e}\")"
      ]
    },
    {
      "cell_type": "markdown",
      "metadata": {
        "id": "EYJjeRpsCkGU"
      },
      "source": [
        "###9.How can you read a file line by line and store its content in a list in Python?"
      ]
    },
    {
      "cell_type": "code",
      "execution_count": 24,
      "metadata": {
        "colab": {
          "base_uri": "https://localhost:8080/"
        },
        "id": "IO6ovEEWCrrV",
        "outputId": "617d5a0c-738b-477f-c496-3af867a3dfd2"
      },
      "outputs": [
        {
          "output_type": "stream",
          "name": "stdout",
          "text": [
            "['Hello', 'This is a test', 'File reading line by line']\n",
            "['Hello', 'This is a test', 'File reading line by line']\n"
          ]
        }
      ],
      "source": [
        "with open(\"example.txt\", \"r\") as file:\n",
        "    lines = [line.strip() for line in file]\n",
        "\n",
        "print(lines)"
      ]
    },
    {
      "cell_type": "markdown",
      "metadata": {
        "id": "7co4ZkxIDNSS"
      },
      "source": [
        "###10.How can you append data to an existing file in Python?"
      ]
    },
    {
      "cell_type": "code",
      "execution_count": 25,
      "metadata": {
        "colab": {
          "base_uri": "https://localhost:8080/"
        },
        "id": "aKmG0VWGDTXN",
        "outputId": "29a03edd-a4b2-4c1e-c028-baa9bb89ab9c"
      },
      "outputs": [
        {
          "output_type": "stream",
          "name": "stdout",
          "text": [
            "['Hello', 'This is a test', 'File reading line by line']\n",
            "['Hello', 'This is a test', 'File reading line by line']\n"
          ]
        }
      ],
      "source": [
        "with open(\"example.txt\", \"r\") as file:\n",
        "    lines = [line.strip() for line in file]\n",
        "\n",
        "print(lines)"
      ]
    },
    {
      "cell_type": "markdown",
      "metadata": {
        "id": "0qo9TQrZDhsn"
      },
      "source": [
        "###11. Write a Python program that uses a try-except block to handle an error when attempting to access a\n",
        "dictionary key that doesn't exist."
      ]
    },
    {
      "cell_type": "code",
      "execution_count": 26,
      "metadata": {
        "colab": {
          "base_uri": "https://localhost:8080/"
        },
        "id": "mFitWeqTDniE",
        "outputId": "b665191f-ac96-4ace-b1a1-83c3b241024c"
      },
      "outputs": [
        {
          "output_type": "stream",
          "name": "stdout",
          "text": [
            "Error: Key ''grade'' does not exist in the dictionary.\n",
            "Error: Key ''grade'' does not exist in the dictionary.\n"
          ]
        }
      ],
      "source": [
        "student = {\n",
        "    \"name\": \"Anurag\",\n",
        "    \"age\": 25,\n",
        "    \"course\": \"BSc Artifical intelligence and machine learning\"\n",
        "}\n",
        "\n",
        "try:\n",
        "    grade = student[\"grade\"]\n",
        "    print(\"Grade:\", grade)\n",
        "except KeyError as e:\n",
        "    print(f\"Error: Key '{e}' does not exist in the dictionary.\")"
      ]
    },
    {
      "cell_type": "markdown",
      "metadata": {
        "id": "jBfH_Th0EKFv"
      },
      "source": [
        "###12. Write a program that demonstrates using multiple except blocks to handle different types of exceptions."
      ]
    },
    {
      "cell_type": "code",
      "execution_count": 27,
      "metadata": {
        "colab": {
          "base_uri": "https://localhost:8080/"
        },
        "id": "Y_jUJRmDEP6E",
        "outputId": "7680cb40-6fcc-47dc-8eed-51911cd3c9b9"
      },
      "outputs": [
        {
          "output_type": "stream",
          "name": "stdout",
          "text": [
            "Enter a number: 3\n",
            "Result: 3.3333333333333335\n",
            "Error: List index out of range.\n",
            "Enter a number: 2\n",
            "Result: 5.0\n",
            "Error: List index out of range.\n"
          ]
        }
      ],
      "source": [
        "try:\n",
        "    num = int(input(\"Enter a number: \"))\n",
        "    result = 10 / num\n",
        "    print(\"Result:\", result)\n",
        "\n",
        "    my_list = [1, 2, 3]\n",
        "    print(my_list[5])\n",
        "\n",
        "except ValueError:\n",
        "    print(\"Error: Invalid input. Please enter a number.\")\n",
        "except ZeroDivisionError:\n",
        "    print(\"Error: Cannot divide by zero.\")\n",
        "except IndexError:\n",
        "    print(\"Error: List index out of range.\")\n",
        "except Exception as e:\n",
        "    print(f\"Unexpected error: {e}\")"
      ]
    },
    {
      "cell_type": "markdown",
      "metadata": {
        "id": "VNK7MzHSFRc8"
      },
      "source": [
        "###13. How would you check if a file exists before attempting to read it in Python?"
      ]
    },
    {
      "cell_type": "code",
      "execution_count": 28,
      "metadata": {
        "colab": {
          "base_uri": "https://localhost:8080/"
        },
        "id": "LAEqUA7CFXoD",
        "outputId": "c36746b5-ee79-4c03-93ae-0955fc03e713"
      },
      "outputs": [
        {
          "output_type": "stream",
          "name": "stdout",
          "text": [
            "File Content:\n",
            "Hello\n",
            "This is a test\n",
            "File reading line by line\n",
            "\n",
            "File Content:\n",
            "Hello\n",
            "This is a test\n",
            "File reading line by line\n",
            "\n"
          ]
        }
      ],
      "source": [
        "from pathlib import Path\n",
        "\n",
        "file_path = Path(\"example.txt\")\n",
        "\n",
        "if file_path.exists():\n",
        "    with open(file_path, \"r\") as file:\n",
        "        content = file.read()\n",
        "        print(\"File Content:\")\n",
        "        print(content)\n",
        "else:\n",
        "    print(\"File does not exist.\")"
      ]
    },
    {
      "cell_type": "markdown",
      "metadata": {
        "id": "jOYUkkn_HabP"
      },
      "source": [
        "###14. Write a program that uses the logging module to log both informational and error messages."
      ]
    },
    {
      "cell_type": "code",
      "execution_count": 29,
      "metadata": {
        "colab": {
          "base_uri": "https://localhost:8080/"
        },
        "id": "3pIijoKYHkp6",
        "outputId": "6ca20b4b-a9dd-4df8-8aea-eaca100e1dfb"
      },
      "outputs": [
        {
          "output_type": "stream",
          "name": "stderr",
          "text": [
            "ERROR:root:Error occurred during division: division by zero\n",
            "ERROR:root:Error occurred during division: division by zero\n"
          ]
        }
      ],
      "source": [
        "import logging\n",
        "\n",
        "logging.basicConfig(\n",
        "    filename='app.log',\n",
        "    level=logging.DEBUG,\n",
        "    format='%(asctime)s - %(levelname)s - %(message)s'\n",
        ")\n",
        "\n",
        "logging.info(\"Application started.\")\n",
        "\n",
        "try:\n",
        "    x = 10\n",
        "    y = 0\n",
        "    result = x / y\n",
        "except ZeroDivisionError as e:\n",
        "    logging.error(\"Error occurred during division: %s\", e)\n",
        "\n",
        "logging.info(\"Application finished.\")"
      ]
    },
    {
      "cell_type": "markdown",
      "metadata": {
        "id": "1ZzEagZlI9ed"
      },
      "source": [
        "###15. Write a Python program that prints the content of a file and handles the case when the file is empty"
      ]
    },
    {
      "cell_type": "code",
      "execution_count": 30,
      "metadata": {
        "colab": {
          "base_uri": "https://localhost:8080/"
        },
        "id": "f6IWTbG3JGDE",
        "outputId": "af094264-74f4-47d4-af98-67c9bdd5141a"
      },
      "outputs": [
        {
          "output_type": "stream",
          "name": "stdout",
          "text": [
            "📄 File Content:\n",
            "Hello\n",
            "This is a test\n",
            "File reading line by line\n",
            "\n",
            "📄 File Content:\n",
            "Hello\n",
            "This is a test\n",
            "File reading line by line\n",
            "\n"
          ]
        }
      ],
      "source": [
        "file_name = \"example.txt\"\n",
        "\n",
        "try:\n",
        "    with open(file_name, \"r\") as file:\n",
        "        content = file.read()\n",
        "        if content.strip() == \"\":\n",
        "            print(\"⚠ The file is empty.\")\n",
        "        else:\n",
        "            print(\"📄 File Content:\")\n",
        "            print(content)\n",
        "except FileNotFoundError:\n",
        "    print(f\"The file '{file_name}' does not exist.\")\n",
        "except Exception as e:\n",
        "    print(f\"An unexpected error occurred: {e}\")"
      ]
    },
    {
      "cell_type": "markdown",
      "metadata": {
        "id": "zQ5qMx2iJytk"
      },
      "source": [
        "###16.Demonstrate how to use memory profiling to check the memory usage of a small program."
      ]
    },
    {
      "cell_type": "code",
      "execution_count": 32,
      "metadata": {
        "colab": {
          "base_uri": "https://localhost:8080/"
        },
        "id": "tN7P5nB0J9K6",
        "outputId": "2985292d-85a0-4ed3-bc0a-1a9c89be95c4"
      },
      "outputs": [
        {
          "output_type": "stream",
          "name": "stdout",
          "text": [
            "Memory used: 35.62 MiB\n"
          ]
        }
      ],
      "source": [
        "!pip install -q memory-profiler\n",
        "from memory_profiler import memory_usage\n",
        "\n",
        "def create_large_list():\n",
        "    data = [i for i in range(1000000)]\n",
        "    return data\n",
        "\n",
        "mem_used = memory_usage(create_large_list)\n",
        "print(f\"Memory used: {max(mem_used) - min(mem_used):.2f} MiB\")"
      ]
    },
    {
      "cell_type": "markdown",
      "source": [
        "###17.Write a Python program to create and write a list of numbers to a file, one number per line.\n"
      ],
      "metadata": {
        "id": "Orv1TPPWQC5O"
      }
    },
    {
      "cell_type": "code",
      "source": [
        "numbers = [10, 20, 30, 40, 50]\n",
        "\n",
        "with open(\"numbers.txt\", \"w\") as file:\n",
        "    for number in numbers:\n",
        "        file.write(f\"{number}\\n\")\n",
        "\n",
        "with open(\"numbers.txt\", \"r\") as file:\n",
        "    content = file.read()\n",
        "    print(\"File Content:\\n\" + content)"
      ],
      "metadata": {
        "id": "P-i1jgOmQpqd",
        "outputId": "f5688e32-2936-4906-ee20-fc0c513306cc",
        "colab": {
          "base_uri": "https://localhost:8080/"
        }
      },
      "execution_count": 37,
      "outputs": [
        {
          "output_type": "stream",
          "name": "stdout",
          "text": [
            "File Content:\n",
            "10\n",
            "20\n",
            "30\n",
            "40\n",
            "50\n",
            "\n"
          ]
        }
      ]
    },
    {
      "cell_type": "markdown",
      "source": [
        "###18.How would you implement a basic logging setup that logs to a file with rotation after 1MB?"
      ],
      "metadata": {
        "id": "wAO2ctQxRjkS"
      }
    },
    {
      "cell_type": "code",
      "source": [
        "import logging\n",
        "from logging.handlers import RotatingFileHandler\n",
        "\n",
        "# Clear old handlers to prevent multiple writes\n",
        "for handler in logging.root.handlers[:]:\n",
        "    logging.root.removeHandler(handler)\n",
        "\n",
        "# Set up rotating file handler\n",
        "handler = RotatingFileHandler(\"app.log\", maxBytes=1 * 1024 * 1024, backupCount=3)\n",
        "formatter = logging.Formatter('%(asctime)s - %(levelname)s - %(message)s')\n",
        "handler.setFormatter(formatter)\n",
        "\n",
        "logger = logging.getLogger(\"rotating_logger\")\n",
        "logger.setLevel(logging.DEBUG)\n",
        "logger.handlers.clear()\n",
        "logger.addHandler(handler)\n",
        "\n",
        "# Write exactly 3000 log lines to file\n",
        "for i in range(3000):\n",
        "    logger.info(f\"Log message number {i}\")\n",
        "\n",
        "# Print only first 20 lines from app.log\n",
        "print(\"📄 Showing first 20 log lines:\\n\")\n",
        "with open(\"app.log\", \"r\") as file:\n",
        "    for i in range(20):\n",
        "        line = file.readline()\n",
        "        if not line:\n",
        "            break\n",
        "        print(line.strip())"
      ],
      "metadata": {
        "id": "7UvNFxMjRt02",
        "outputId": "34e5d8fe-c01f-47d5-f593-28c1e3f000dc",
        "colab": {
          "base_uri": "https://localhost:8080/"
        }
      },
      "execution_count": 41,
      "outputs": [
        {
          "output_type": "stream",
          "name": "stdout",
          "text": [
            "📄 Showing first 20 log lines:\n",
            "\n",
            "2025-07-01 18:38:12,555 - INFO - This is log line number 0\n",
            "2025-07-01 18:38:12,557 - INFO - This is log line number 1\n",
            "2025-07-01 18:38:12,558 - INFO - This is log line number 2\n",
            "2025-07-01 18:38:12,560 - INFO - This is log line number 3\n",
            "2025-07-01 18:38:12,561 - INFO - This is log line number 4\n",
            "2025-07-01 18:38:12,563 - INFO - This is log line number 5\n",
            "2025-07-01 18:38:12,565 - INFO - This is log line number 6\n",
            "2025-07-01 18:38:12,566 - INFO - This is log line number 7\n",
            "2025-07-01 18:38:12,567 - INFO - This is log line number 8\n",
            "2025-07-01 18:38:12,569 - INFO - This is log line number 9\n",
            "2025-07-01 18:38:12,570 - INFO - This is log line number 10\n",
            "2025-07-01 18:38:12,571 - INFO - This is log line number 11\n",
            "2025-07-01 18:38:12,572 - INFO - This is log line number 12\n",
            "2025-07-01 18:38:12,573 - INFO - This is log line number 13\n",
            "2025-07-01 18:38:12,575 - INFO - This is log line number 14\n",
            "2025-07-01 18:38:12,575 - INFO - This is log line number 15\n",
            "2025-07-01 18:38:12,577 - INFO - This is log line number 16\n",
            "2025-07-01 18:38:12,578 - INFO - This is log line number 17\n",
            "2025-07-01 18:38:12,579 - INFO - This is log line number 18\n",
            "2025-07-01 18:38:12,580 - INFO - This is log line number 19\n"
          ]
        }
      ]
    },
    {
      "cell_type": "markdown",
      "source": [
        "###19. Write a program that handles both IndexError and KeyError using a try-except block?"
      ],
      "metadata": {
        "id": "pkSNng1UUMPt"
      }
    },
    {
      "cell_type": "code",
      "source": [
        "try:\n",
        "    my_list = [10, 20, 30]\n",
        "    my_dict = {\"a\": 1, \"b\": 2}\n",
        "\n",
        "    print(\"Accessing list item at index 5:\")\n",
        "    print(my_list[5])\n",
        "\n",
        "    print(\"Accessing dictionary key 'z':\")\n",
        "    print(my_dict[\"z\"])\n",
        "\n",
        "except IndexError:\n",
        "    print(\"Caught IndexError: List index out of range.\")\n",
        "\n",
        "except KeyError:\n",
        "    print(\"Caught KeyError: Key not found in dictionary.\")\n",
        "\n",
        "except Exception as e:\n",
        "    print(f\"Caught Other Error: {e}\")"
      ],
      "metadata": {
        "id": "Ft1BUu9PUSzx",
        "outputId": "50887a05-9e51-427e-dda3-18d455ab7377",
        "colab": {
          "base_uri": "https://localhost:8080/"
        }
      },
      "execution_count": 44,
      "outputs": [
        {
          "output_type": "stream",
          "name": "stdout",
          "text": [
            "Accessing list item at index 5:\n",
            "Caught IndexError: List index out of range.\n"
          ]
        }
      ]
    },
    {
      "cell_type": "markdown",
      "source": [
        "###20. How would you open a file and read its contents using a context manager in Python?"
      ],
      "metadata": {
        "id": "S_ucmYDIUvsn"
      }
    },
    {
      "cell_type": "code",
      "source": [
        "with open(\"sample.txt\", \"w\") as f:\n",
        "    f.write(\"Hello World!\\nThis is a test file.\\nReading line by line.\")\n",
        "\n",
        "print(\"📄 Reading file using context manager:\\n\")\n",
        "with open(\"sample.txt\", \"r\") as file:\n",
        "    content = file.read()\n",
        "    print(content)"
      ],
      "metadata": {
        "id": "H2g2uoW-U2bD",
        "outputId": "68bf052c-51f7-4b87-9b41-1b588c7e8a74",
        "colab": {
          "base_uri": "https://localhost:8080/"
        }
      },
      "execution_count": 45,
      "outputs": [
        {
          "output_type": "stream",
          "name": "stdout",
          "text": [
            "📄 Reading file using context manager:\n",
            "\n",
            "Hello World!\n",
            "This is a test file.\n",
            "Reading line by line.\n"
          ]
        }
      ]
    },
    {
      "cell_type": "markdown",
      "source": [
        "###21.Write a Python program that reads a file and prints the number of occurrences of a specific word"
      ],
      "metadata": {
        "id": "2OSeuD9gVK6d"
      }
    },
    {
      "cell_type": "code",
      "source": [
        "with open(\"data.txt\", \"w\") as file:\n",
        "    file.write(\"Python is simple. Python is powerful. I love Python.\\nPython is easy to learn.\")\n",
        "\n",
        "word_to_count = \"Python\"\n",
        "\n",
        "with open(\"data.txt\", \"r\") as file:\n",
        "    content = file.read()\n",
        "    count = content.count(word_to_count)\n",
        "\n",
        "print(f\"The word '{word_to_count}' occurs {count} times in the file.\")"
      ],
      "metadata": {
        "id": "6knoUt92VQ_R",
        "outputId": "97506399-34bf-4bf4-dfe0-c6dbd0ea744c",
        "colab": {
          "base_uri": "https://localhost:8080/"
        }
      },
      "execution_count": 46,
      "outputs": [
        {
          "output_type": "stream",
          "name": "stdout",
          "text": [
            "The word 'Python' occurs 4 times in the file.\n"
          ]
        }
      ]
    },
    {
      "cell_type": "markdown",
      "source": [
        "###22.How can you check if a file is empty before attempting to read its contents?"
      ],
      "metadata": {
        "id": "WxCzq4RGVm75"
      }
    },
    {
      "cell_type": "code",
      "source": [
        "with open(\"not_empty.txt\", \"w\") as f:\n",
        "    f.write(\"This file is not empty.\")\n",
        "\n",
        "with open(\"empty.txt\", \"w\") as f:\n",
        "    pass\n",
        "\n",
        "import os\n",
        "\n",
        "for filename in [\"not_empty.txt\", \"empty.txt\"]:\n",
        "    if os.path.getsize(filename) == 0:\n",
        "        print(f\"{filename} is empty.\")\n",
        "    else:\n",
        "        with open(filename, \"r\") as f:\n",
        "            content = f.read()\n",
        "            print(f\"{filename} is not empty. Content:\\n{content}\\n\")"
      ],
      "metadata": {
        "id": "VcPXHyP5VsFz",
        "outputId": "2582d018-ea9b-43c2-ebf0-af1ee1e2c28c",
        "colab": {
          "base_uri": "https://localhost:8080/"
        }
      },
      "execution_count": 49,
      "outputs": [
        {
          "output_type": "stream",
          "name": "stdout",
          "text": [
            "not_empty.txt is not empty. Content:\n",
            "This file is not empty.\n",
            "\n",
            "empty.txt is empty.\n"
          ]
        }
      ]
    },
    {
      "cell_type": "markdown",
      "source": [
        "###23.Write a Python program that writes to a log file when an error occurs during file handling"
      ],
      "metadata": {
        "id": "KANZ3YtDWpxh"
      }
    },
    {
      "cell_type": "code",
      "source": [
        "import logging\n",
        "\n",
        "logging.basicConfig(filename='file_error.log',\n",
        "                    level=logging.ERROR,\n",
        "                    format='%(asctime)s - %(levelname)s - %(message)s')\n",
        "\n",
        "try:\n",
        "    with open(\"missing_file.txt\", \"r\") as f:\n",
        "        data = f.read()\n",
        "except FileNotFoundError as e:\n",
        "    print(\"Error occurred.\")\n",
        "    logging.error(\"File handling error: %s\", e)\n",
        "\n",
        "with open(\"file_error.log\", \"r\") as log:\n",
        "    print(\"\\nLog File Content:\")\n",
        "    print(log.read())"
      ],
      "metadata": {
        "id": "w8NgAtVEWyfK",
        "outputId": "b6444e2a-e84f-469f-deef-e1484f061765",
        "colab": {
          "base_uri": "https://localhost:8080/"
        }
      },
      "execution_count": 50,
      "outputs": [
        {
          "output_type": "stream",
          "name": "stdout",
          "text": [
            "Error occurred.\n",
            "\n",
            "Log File Content:\n",
            "2025-07-01 18:59:58,799 - ERROR - File handling error: [Errno 2] No such file or directory: 'missing_file.txt'\n",
            "\n"
          ]
        }
      ]
    }
  ],
  "metadata": {
    "colab": {
      "provenance": []
    },
    "kernelspec": {
      "display_name": "Python 3",
      "name": "python3"
    },
    "language_info": {
      "name": "python"
    }
  },
  "nbformat": 4,
  "nbformat_minor": 0
}